{
 "cells": [
  {
   "cell_type": "markdown",
   "metadata": {},
   "source": [
    "# Exploratory Data Analysis and Network Analysis"
   ]
  },
  {
   "cell_type": "code",
   "execution_count": 3,
   "metadata": {},
   "outputs": [],
   "source": [
    "import matplotlib.pyplot as plt\n",
    "from collections import Counter\n",
    "from joblib import load, dump\n",
    "import networkx\n",
    "import seaborn as sns\n",
    "import pandas as pd\n",
    "import numpy as np\n",
    "import gensim\n",
    "import string\n",
    "import spacy\n",
    "import time\n",
    "import os\n",
    "import re"
   ]
  },
  {
   "cell_type": "code",
   "execution_count": 1,
   "metadata": {},
   "outputs": [],
   "source": [
    "# prozentuelle zugehörigkeiten plotten\n",
    "# zwischen den modell outputs unterscheiden und schauen, wie man sie zum optimieren bringt\n",
    "# alternative modelle zum laufen bringen\n",
    "# überlegen wie die attribute auf ein netzwerk legbar sind"
   ]
  },
  {
   "cell_type": "code",
   "execution_count": null,
   "metadata": {},
   "outputs": [],
   "source": [
    "#df_txt_features_LDA=pd.read_csv('./analysis/df_txt_features_LDA.csv')"
   ]
  },
  {
   "cell_type": "code",
   "execution_count": null,
   "metadata": {},
   "outputs": [],
   "source": [
    "#df_txt_features_CTM=pd.read_csv('./analysis/df_txt_features_CTM.csv')"
   ]
  },
  {
   "cell_type": "code",
   "execution_count": null,
   "metadata": {},
   "outputs": [],
   "source": [
    "#df_txt_features_EDM=pd.read_csv('./analysis/df_txt_features_EDM.csv')"
   ]
  },
  {
   "cell_type": "code",
   "execution_count": null,
   "metadata": {},
   "outputs": [],
   "source": [
    "# top_words_per_topic_LDA = ('./analysis/top_words_per_topic_LDA.joblib')\n",
    "# top_words_per_topic_CTM = ('./analysis/top_words_per_topic_CTM.joblib')\n",
    "# top_words_per_topic_ETM = ('./analysis/top_words_per_topic_ETM.joblib')"
   ]
  },
  {
   "cell_type": "code",
   "execution_count": null,
   "metadata": {},
   "outputs": [],
   "source": [
    "# topic_term_dists_LDA = load('./analysis/topic_term_dists_LDA.joblib')\n",
    "# doc_topic_dists_LDA = load('./analysis/doc_topic_dists_LDA.joblib')\n",
    "# topic_term_dists_CTM = load('./analysis/topic_term_dists_CTM.joblib')\n",
    "# doc_topic_dists_CTM = load('./analysis/doc_topic_dists_CTM.joblib')\n",
    "# topic_term_dists_EDM = load('./analysis/topic_term_dists_EDM.joblib')\n",
    "# doc_topic_dists_EDM = load('./analysis/doc_topic_dists_EDM.joblib')\n",
    "# vocab = load('./analysis/vocab_topic_models.joblib')\n",
    "# doc_lengths= load('./analysis/doc_lengths_topic_models.joblib')\n",
    "# term_frequency = load('./analysis/term_frequency_topic_models.joblib')"
   ]
  },
  {
   "cell_type": "code",
   "execution_count": null,
   "metadata": {},
   "outputs": [],
   "source": [
    "# prepared_data = pyLDAvis.prepare(topic_term_dists, doc_topic_dists, doc_lengths, vocab, term_frequency)\n",
    "\n",
    "# # Display the visualization\n",
    "# pyLDAvis.display(prepared_data)"
   ]
  }
 ],
 "metadata": {
  "kernelspec": {
   "display_name": ".venv",
   "language": "python",
   "name": "python3"
  },
  "language_info": {
   "codemirror_mode": {
    "name": "ipython",
    "version": 3
   },
   "file_extension": ".py",
   "mimetype": "text/x-python",
   "name": "python",
   "nbconvert_exporter": "python",
   "pygments_lexer": "ipython3",
   "version": "3.9.18"
  }
 },
 "nbformat": 4,
 "nbformat_minor": 2
}
